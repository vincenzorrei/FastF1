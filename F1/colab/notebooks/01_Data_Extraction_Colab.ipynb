{
 "cells": [
  {
   "cell_type": "markdown",
   "metadata": {},
   "source": [
    "# Notebook 01: Data Extraction for F1 Tyre Prediction (Colab)\n",
    "\n",
    "This notebook handles the extraction of raw F1 race data using FastF1. It is designed to be run in a Google Colab environment and utilizes scripts and configurations stored in Google Drive.\n",
    "\n",
    "**Workflow:**\n",
    "1.  **Mount Google Drive**: Access project files.\n",
    "2.  **Set Project Path**: Navigate to the correct project directory on Drive.\n",
    "3.  **Install Dependencies**: Install necessary Python libraries from `requirements.txt`.\n",
    "4.  **Verify Configuration**: Remind the user to check `colab_path_config.yaml` and `colab_data_extraction_config.yaml`.\n",
    "5.  **Run Data Extraction Script**: Execute `colab_fetch_fastf1_data.py`.\n",
    "6.  **Review Outputs**: Check logs and confirm data is saved to Google Drive."
   ]
  },
  {
   "cell_type": "markdown",
   "metadata": {},
   "source": [
    "## 1. Mount Google Drive"
   ]
  },
  {
   "cell_type": "code",
   "execution_count": null,
   "metadata": {},
   "outputs": [],
   "source": [
    "from google.colab import drive\n",
    "drive.mount('/content/drive')"
   ]
  },
  {
   "cell_type": "markdown",
   "metadata": {},
   "source": [
    "## 2. Set Project Path\n",
    "\n",
    "Navigate to the `F1/colab/` directory within your Google Drive. \n",
    "**IMPORTANT:** You MUST update the path below (`%cd`) to point to the correct location of the `FASTF1/F1/colab/` directory in your Google Drive."
   ]
  },
  {
   "cell_type": "code",
   "execution_count": null,
   "metadata": {},
   "outputs": [],
   "source": [
    "# USER ACTION REQUIRED: Update this path!\n",
    "# Example: %cd \"/content/drive/My Drive/Colab Notebooks/FASTF1/F1/colab/\"\n",
    "%cd \"/content/drive/My Drive/path/to/your/FASTF1/F1/colab/\" # <-- UPDATE THIS LINE"
   ]
  },
  {
   "cell_type": "markdown",
   "metadata": {},
   "source": [
    "## 3. Install Dependencies\n",
    "\n",
    "This will install the libraries listed in `F1/colab/requirements.txt`."
   ]
  },
  {
   "cell_type": "code",
   "execution_count": null,
   "metadata": {},
   "outputs": [],
   "source": [
    "!pip install -r requirements.txt"
   ]
  },
  {
   "cell_type": "markdown",
   "metadata": {},
   "source": [
    "## 4. Verify Configuration Files\n",
    "\n",
    "Before running the extraction, please ensure the following configuration files are correctly set up in your Google Drive within the `F1/colab/configs/` directory:\n",
    "\n",
    "1.  **`colab_path_config.yaml`**: \n",
    "    *   Crucially, the `base_project_drive_path` must point to the root of your `FASTF1` project on Google Drive (e.g., `/content/drive/My Drive/FASTF1`).\n",
    "    *   Other paths within this file are derived from `base_project_drive_path`.\n",
    "\n",
    "2.  **`colab_data_extraction_config.yaml`**:\n",
    "    *   Verify `years_to_fetch` to process only a small number of races for initial testing (e.g., one or two years, with the script configured to pick a limited number of GPs per year if applicable).\n",
    "    *   Check `fastf1_cache_path` (this should be the `fastf1_cache_path_drive` from `colab_path_config.yaml` if you want persistent caching on Drive, or a local Colab path like `/tmp/ff1_cache` for ephemeral caching).\n",
    "    *   Other parameters like `columns_to_extract`, `max_nan_percentage_threshold`, etc.\n",
    "\n",
    "**You can edit these YAML files directly in a text editor or through the Colab file browser if needed.**"
   ]
  },
  {
   "cell_type": "code",
   "execution_count": null,
   "metadata": {},
   "outputs": [],
   "source": [
    "# Optional: Display the content of config files to verify paths\n",
    "# Make sure you have navigated to F1/colab/ first using %cd\n",
    "\n",
    "print(\"--- Contents of F1/colab/configs/colab_path_config.yaml ---\")\n",
    "!cat \"configs/colab_path_config.yaml\"\n",
    "print(\"\\n--- Contents of F1/colab/configs/colab_data_extraction_config.yaml ---\")\n",
    "!cat \"configs/colab_data_extraction_config.yaml\""
   ]
  },
  {
   "cell_type": "markdown",
   "metadata": {},
   "source": [
    "## 5. Run Data Extraction Script\n",
    "\n",
    "This command executes the `colab_fetch_fastf1_data.py` script located in `F1/colab/src/`.\n",
    "Output and logs from the script will be displayed below."
   ]
  },
  {
   "cell_type": "code",
   "execution_count": null,
   "metadata": {},
   "outputs": [],
   "source": [
    "# Ensure you are in the F1/colab/ directory for the script path to be correct\n",
    "!python src/colab_fetch_fastf1_data.py"
   ]
  },
  {
   "cell_type": "markdown",
   "metadata": {},
   "source": [
    "## 6. Review Outputs and Logs\n",
    "\n",
    "After the script finishes:\n",
    "1.  **Check Script Output**: Review the print statements and any error messages from the cell above.\n",
    "2.  **Check `data_download_log.csv`**: Navigate to the `F1/colab/drive/` directory (as configured in `colab_path_config.yaml`) on your Google Drive and open `data_download_log.csv`. Verify that entries for the processed races have `Status: Success` (or an expected error/skip status) and that `FilePath` points to a `.parquet` file within the `raw_data` subdirectory.\n",
    "3.  **Verify Parquet Files**: Check that the actual `.parquet` files exist in the `F1/colab/drive/raw_data/{year}/{event_name}/` directories on Google Drive.\n",
    "4.  **FastF1 Cache (Optional)**: If `fastf1_cache_path_drive` was configured, check the `F1/colab/drive/fastf1_cache_colab/` directory for cache files."
   ]
  }
 ],
 "metadata": {
  "colab": {
   "provenance": []
  },
  "kernelspec": {
   "display_name": "Python 3",
   "name": "python3"
  },
  "language_info": {
   "name": "python"
  }
 },
 "nbformat": 4,
 "nbformat_minor": 0
}
