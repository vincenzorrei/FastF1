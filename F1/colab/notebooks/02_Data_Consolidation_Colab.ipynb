{
 "cells": [
  {
   "cell_type": "markdown",
   "metadata": {},
   "source": [
    "# Notebook 02: Data Consolidation for F1 Tyre Prediction (Colab)\n",
    "\n",
    "This notebook handles the consolidation of raw F1 race data (extracted by `01_Data_Extraction_Colab.ipynb`) into a single processed dataset. It is designed to be run in a Google Colab environment and utilizes scripts and configurations stored in Google Drive.\n",
    "\n",
    "**Prerequisites:**\n",
    "-   Successful execution of `01_Data_Extraction_Colab.ipynb`.\n",
    "-   Raw `.parquet` files present in the `F1/colab/drive/raw_data/` directory on Google Drive (path configured in `colab_path_config.yaml`).\n",
    "-   Configuration files (`colab_path_config.yaml`) correctly set up.\n",
    "\n",
    "**Workflow:**\n",
    "1.  **Mount Google Drive**: Access project files.\n",
    "2.  **Set Project Path**: Navigate to the correct project directory on Drive.\n",
    "3.  **Install Dependencies**: (Usually already done if running sequentially after Notebook 01, but included for completeness if run standalone).\n",
    "4.  **Verify Configuration**: Remind the user to check `colab_path_config.yaml`.\n",
    "5.  **Run Data Consolidation Script**: Execute `colab_consolidate_data.py`.\n",
    "6.  **Review Outputs**: Check logs and confirm the consolidated `dataset.parquet` and `consolidation_report.txt` are saved to the `F1/colab/drive/processed_data/` directory on Google Drive."
   ]
  },
  {
   "cell_type": "markdown",
   "metadata": {},
   "source": [
    "## 1. Mount Google Drive"
   ]
  },
  {
   "cell_type": "code",
   "execution_count": null,
   "metadata": {},
   "outputs": [],
   "source": [
    "from google.colab import drive\n",
    "drive.mount('/content/drive')"
   ]
  },
  {
   "cell_type": "markdown",
   "metadata": {},
   "source": [
    "## 2. Set Project Path\n",
    "\n",
    "Navigate to the `F1/colab/` directory within your Google Drive. \n",
    "**IMPORTANT:** You MUST update the path below (`%cd`) to point to the correct location of the `FASTF1/F1/colab/` directory in your Google Drive if it's different from the previous notebook or if running this standalone."
   ]
  },
  {
   "cell_type": "code",
   "execution_count": null,
   "metadata": {},
   "outputs": [],
   "source": [
    "# USER ACTION REQUIRED: Update this path if necessary!\n",
    "# Example: %cd \"/content/drive/My Drive/Colab Notebooks/FASTF1/F1/colab/\"\n",
    "%cd \"/content/drive/My Drive/path/to/your/FASTF1/F1/colab/\" # <-- UPDATE THIS LINE IF NEEDED"
   ]
  },
  {
   "cell_type": "markdown",
   "metadata": {},
   "source": [
    "## 3. Install Dependencies (if not already installed)\n",
    "\n",
    "This step is generally only needed if you are running this notebook in a fresh Colab session or if dependencies were not installed by a previous notebook in the same session."
   ]
  },
  {
   "cell_type": "code",
   "execution_count": null,
   "metadata": {},
   "outputs": [],
   "source": [
    "# !pip install -r requirements.txt # Uncomment if needed"
   ]
  },
  {
   "cell_type": "markdown",
   "metadata": {},
   "source": [
    "## 4. Verify Configuration Files\n",
    "\n",
    "Before running the consolidation, please ensure `F1/colab/configs/colab_path_config.yaml` is correctly set up in your Google Drive, especially the `base_project_drive_path`."
   ]
  },
  {
   "cell_type": "code",
   "execution_count": null,
   "metadata": {},
   "outputs": [],
   "source": [
    "# Optional: Display the content of config files to verify paths\n",
    "# Make sure you have navigated to F1/colab/ first using %cd\n",
    "\n",
    "print(\"--- Contents of F1/colab/configs/colab_path_config.yaml ---\")\n",
    "!cat \"configs/colab_path_config.yaml\""
   ]
  },
  {
   "cell_type": "markdown",
   "metadata": {},
   "source": [
    "## 5. Run Data Consolidation Script\n",
    "\n",
    "This command executes the `colab_consolidate_data.py` script located in `F1/colab/src/`.\n",
    "Output and logs from the script will be displayed below."
   ]
  },
  {
   "cell_type": "code",
   "execution_count": null,
   "metadata": {},
   "outputs": [],
   "source": [
    "# Ensure you are in the F1/colab/ directory for the script path to be correct\n",
    "!python src/colab_consolidate_data.py"
   ]
  },
  {
   "cell_type": "markdown",
   "metadata": {},
   "source": [
    "## 6. Review Outputs and Logs\n",
    "\n",
    "After the script finishes:\n",
    "1.  **Check Script Output**: Review the print statements and any error messages from the cell above.\n",
    "2.  **Check `colab_data_consolidation.log`**: Navigate to the `F1/colab/drive/logs/` directory (as configured) on your Google Drive and review the log file for detailed information.\n",
    "3.  **Check `colab_consolidation_report.txt`**: This report should also be in the `F1/colab/drive/logs/` (or `artifacts`) directory. Review the summary statistics.\n",
    "4.  **Verify `dataset.parquet`**: Check that the consolidated `dataset.parquet` file exists in the `F1/colab/drive/processed_data/` directory on Google Drive and inspect its properties (e.g., size)."
   ]
  }
 ],
 "metadata": {
  "kernelspec": {
   "display_name": "Python 3",
   "language": "python",
   "name": "python3"
  },
  "language_info": {
   "codemirror_mode": {
    "name": "ipython",
    "version": 3
   },
   "file_extension": ".py",
   "mimetype": "text/x-python",
   "name": "python",
   "nbconvert_exporter": "python",
   "pygments_lexer": "ipython3",
   "version": "3.x"
  }
 },
 "nbformat": 4,
 "nbformat_minor": 5
}
