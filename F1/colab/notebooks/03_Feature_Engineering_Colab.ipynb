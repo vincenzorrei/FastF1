{
 "cells": [
  {
   "cell_type": "markdown",
   "metadata": {},
   "source": [
    "# Notebook 03: Feature Engineering for F1 Tyre Prediction (Colab)\n",
    "\n",
    "This notebook orchestrates the feature engineering process on the consolidated F1 dataset. It uses the `colab_feature_engineering.py` and `colab_create_features_pipeline.py` scripts.\n",
    "\n",
    "**Prerequisites:**\n",
    "-   Successful execution of `02_Data_Consolidation_Colab.ipynb`.\n",
    "-   Consolidated `dataset.parquet` present in the `F1/colab/drive/processed_data/` directory on Google Drive.\n",
    "-   Configuration files (`colab_path_config.yaml`) correctly set up.\n",
    "\n",
    "**Workflow:**\n",
    "1.  **Mount Google Drive**: Access project files.\n",
    "2.  **Set Project Path**: Navigate to the correct project directory on Drive.\n",
    "3.  **Install Dependencies**: (Usually already done, but included for completeness).\n",
    "4.  **Verify Configuration**: Remind the user to check `colab_path_config.yaml`.\n",
    "5.  **Run Feature Engineering Pipeline Script**: Execute `colab_create_features_pipeline.py`.\n",
    "6.  **Review Outputs**: Check logs, the feature-engineered dataset (`featured_dataset.parquet`), and saved artifacts (encoders, scalers, imputer values) on Google Drive."
   ]
  },
  {
   "cell_type": "markdown",
   "metadata": {},
   "source": [
    "## 1. Mount Google Drive"
   ]
  },
  {
   "cell_type": "code",
   "execution_count": null,
   "metadata": {},
   "outputs": [],
   "source": [
    "from google.colab import drive\n",
    "drive.mount('/content/drive')"
   ]
  },
  {
   "cell_type": "markdown",
   "metadata": {},
   "source": [
    "## 2. Set Project Path\n",
    "\n",
    "Navigate to the `F1/colab/` directory within your Google Drive. \n",
    "**IMPORTANT:** You MUST update the path below (`%cd`) if it's different or if running this standalone."
   ]
  },
  {
   "cell_type": "code",
   "execution_count": null,
   "metadata": {},
   "outputs": [],
   "source": [
    "# USER ACTION REQUIRED: Update this path if necessary!\n",
    "# Example: %cd \"/content/drive/My Drive/Colab Notebooks/FASTF1/F1/colab/\"\n",
    "%cd \"/content/drive/My Drive/path/to/your/FASTF1/F1/colab/\" # <-- UPDATE THIS LINE IF NEEDED"
   ]
  },
  {
   "cell_type": "markdown",
   "metadata": {},
   "source": [
    "## 3. Install Dependencies (if not already installed)"
   ]
  },
  {
   "cell_type": "code",
   "execution_count": null,
   "metadata": {},
   "outputs": [],
   "source": [
    "# !pip install -r requirements.txt # Uncomment if needed"
   ]
  },
  {
   "cell_type": "markdown",
   "metadata": {},
   "source": [
    "## 4. Verify Configuration Files\n",
    "\n",
    "Ensure `F1/colab/configs/colab_path_config.yaml` is correctly set up, especially `base_project_drive_path`."
   ]
  },
  {
   "cell_type": "code",
   "execution_count": null,
   "metadata": {},
   "outputs": [],
   "source": [
    "print(\"--- Contents of F1/colab/configs/colab_path_config.yaml ---\")\n",
    "!cat \"configs/colab_path_config.yaml\""
   ]
  },
  {
   "cell_type": "markdown",
   "metadata": {},
   "source": [
    "## 5. Run Feature Engineering Pipeline Script\n",
    "\n",
    "This command executes the `colab_create_features_pipeline.py` script located in `F1/colab/src/feature_engineering/`."
   ]
  },
  {
   "cell_type": "code",
   "execution_count": null,
   "metadata": {},
   "outputs": [],
   "source": [
    "# Ensure you are in the F1/colab/ directory for the script path to be correct\n",
    "!python src/feature_engineering/colab_create_features_pipeline.py"
   ]
  },
  {
   "cell_type": "markdown",
   "metadata": {},
   "source": [
    "## 6. Review Outputs and Logs\n",
    "\n",
    "After the script finishes:\n",
    "1.  **Check Script Output**: Review print statements and errors from the cell above.\n",
    "2.  **Check `colab_feature_engineering.log` and `colab_create_features_pipeline.log`**: Review logs in `F1/colab/drive/logs/`.\n",
    "3.  **Verify `featured_dataset.parquet`**: Check that this file exists in `F1/colab/drive/feature_engineered_data/`.\n",
    "4.  **Verify Artifacts**: Check for `colab_encoders.pkl`, `colab_scaler.pkl`, and `colab_imputer_values.json` in `F1/colab/drive/artifacts/`."
   ]
  }
 ],
 "metadata": {
  "colab": {
   "provenance": []
  },
  "kernelspec": {
   "display_name": "Python 3",
   "name": "python3"
  },
  "language_info": {
   "name": "python"
  }
 },
 "nbformat": 4,
 "nbformat_minor": 0
}
